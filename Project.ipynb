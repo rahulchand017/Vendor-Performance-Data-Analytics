{
 "cells": [
  {
   "cell_type": "markdown",
   "id": "9b268874",
   "metadata": {},
   "source": [
    "## Business Problem\n",
    "\n",
    "Effective inventory and sales management are critical for optimizing profitability in the retail and wholesale industry. Companies need to ensure that they are not incurring losses due to inefficient pricing, poor inventory turnover, or vendor dependency. \n",
    "\n",
    "The goal of this analysis is to:\n",
    "\n",
    "- Identify underperforming brands that require promotional or pricing adjustments.\n",
    "- Determine top vendors contributing to sales and gross profit.\n",
    "- Analyze the impact of bulk purchasing on unit costs.\n",
    "- Assess inventory turnover to reduce holding costs and improve efficiency.\n",
    "- Investigate the profitability variance between high-performing and low-performing vendors.\n"
   ]
  },
  {
   "cell_type": "code",
   "execution_count": 11,
   "id": "e75e80db",
   "metadata": {},
   "outputs": [],
   "source": [
    "import pandas as pd\n",
    "import numpy as np\n",
    "import os \n",
    "from sqlalchemy import create_engine\n",
    "import time\n",
    "import logging\n",
    "os.makedirs(\"logs\", exist_ok=True)\n",
    "\n",
    "logging.basicConfig(\n",
    "    filename = \"logs/ingestion_db.log\",\n",
    "    level = logging.DEBUG,\n",
    "    format = \"%(asctime)s-%(levelname)s - %(message)s\",\n",
    "    filemode = \"a\"\n",
    "    # a is for append, it will append the data every time\n",
    "\n",
    ")"
   ]
  },
  {
   "cell_type": "code",
   "execution_count": 3,
   "id": "39e9fb32",
   "metadata": {},
   "outputs": [],
   "source": [
    "engine = create_engine('sqlite:///inventory.db')"
   ]
  },
  {
   "cell_type": "code",
   "execution_count": null,
   "id": "045335c4",
   "metadata": {},
   "outputs": [],
   "source": [
    "def ingest_db(df, table_name, engine):\n",
    "    '''This code will ingest the dataframe into database table'''\n",
    "    df.to_sql(table_name, con = engine, if_exists ='replace', index=False)"
   ]
  },
  {
   "cell_type": "markdown",
   "id": "3aa7d6df",
   "metadata": {},
   "source": [
    "#### This code will ingest the dataframe into database table"
   ]
  },
  {
   "cell_type": "code",
   "execution_count": null,
   "id": "dbd27f44",
   "metadata": {},
   "outputs": [],
   "source": [
    "def load_raw_data():\n",
    "    '''This code will load the CSV as dataframe and import into db'''\n",
    "    start = time.time()\n",
    "    for file in os.listdir('data'):\n",
    "        if '.csv' in file:\n",
    "            df = pd.read_csv('data/' + file)\n",
    "            logging.info(f\"Ingesting {file} in db\")\n",
    "            ingest_db(df,file[:-4], engine)\n",
    "             # the upper code should be always run after running the next code, then add this code and run again.\n",
    "    end = time.time()\n",
    "    total_time = (end - start)/60\n",
    "    # 60 is taken because it is in sec\n",
    "    logging.info(\"Ingestion Complete\")\n",
    "    logging.info(f\"\\nTotal Time Taken: {total_time} minutes\")\n",
    "\n",
    "if __name__ == '__main__':\n",
    "    load_raw_data\n"
   ]
  },
  {
   "cell_type": "markdown",
   "id": "d80df42f",
   "metadata": {},
   "source": [
    "#### This code will load the CSV as dataframe and import into db"
   ]
  },
  {
   "cell_type": "markdown",
   "id": "ce649acf",
   "metadata": {},
   "source": [
    "## Exploratory Data Analysis\n",
    "\n",
    "Understanding the dataset to explore how the data is present in the database and if there is a need of creating some aggregated tables that can help with:\n",
    "\n",
    "- Vendor selection for profitability  \n",
    "- Product Pricing Optimization\n"
   ]
  },
  {
   "cell_type": "code",
   "execution_count": 14,
   "id": "af0fae1b",
   "metadata": {},
   "outputs": [],
   "source": [
    "import pandas as pd\n",
    "import sqlite3"
   ]
  },
  {
   "cell_type": "code",
   "execution_count": null,
   "id": "8705c7a8",
   "metadata": {},
   "outputs": [],
   "source": []
  }
 ],
 "metadata": {
  "kernelspec": {
   "display_name": "Python 3",
   "language": "python",
   "name": "python3"
  },
  "language_info": {
   "codemirror_mode": {
    "name": "ipython",
    "version": 3
   },
   "file_extension": ".py",
   "mimetype": "text/x-python",
   "name": "python",
   "nbconvert_exporter": "python",
   "pygments_lexer": "ipython3",
   "version": "3.12.0"
  }
 },
 "nbformat": 4,
 "nbformat_minor": 5
}
